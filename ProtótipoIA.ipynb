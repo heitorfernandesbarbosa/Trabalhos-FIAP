{
  "nbformat": 4,
  "nbformat_minor": 0,
  "metadata": {
    "colab": {
      "provenance": []
    },
    "kernelspec": {
      "name": "python3",
      "display_name": "Python 3"
    },
    "language_info": {
      "name": "python"
    }
  },
  "cells": [
    {
      "cell_type": "code",
      "execution_count": null,
      "metadata": {
        "id": "kwARwZ7YmiuS"
      },
      "outputs": [],
      "source": [
        "import json\n",
        "import openai\n",
        "from openai import OpenAI\n",
        "from google.colab import userdata\n",
        "from PIL import Image\n",
        "import requests\n",
        "from pydantic import BaseModel\n",
        "import base64\n",
        "import io"
      ]
    },
    {
      "cell_type": "code",
      "source": [
        "client = OpenAI(api_key=userdata.get('OPENAI_API_KEY'))"
      ],
      "metadata": {
        "id": "Q_q55JDkm8Ri"
      },
      "execution_count": null,
      "outputs": []
    },
    {
      "cell_type": "code",
      "source": [
        "urlLimpa = \"https://upload.wikimedia.org/wikipedia/commons/d/d8/Energy_assurance_only_a_microgrid_away_140113-M-OB827-007.jpg\"\n",
        "urlSuja = \"https://www.aldo.com.br/blog/wp-content/uploads/2023/01/blog_aldosolar_Sujeira-no-modulo-pode-gerar-perda-de-receita.jpg\"\n",
        "urlSol = \"https://elysia.com.br/wp-content/uploads/2021/05/sombreamento-paineis-solares-texto15.jpg\"\n",
        "urlNublado = \"https://cdn.shopify.com/s/files/1/0596/3713/7578/files/Solar_panels_on_a_cloudy_day_480x480.webp?v=1728635656\""
      ],
      "metadata": {
        "id": "Fl7Hn5GhnSS4"
      },
      "execution_count": null,
      "outputs": []
    },
    {
      "cell_type": "code",
      "source": [
        "def encode_image_to_base64(image_url):\n",
        "    headers = {\n",
        "    'User-Agent': 'College project demonstration (eduardo566460@fiap.com.br)'\n",
        "}\n",
        "    response = requests.get(image_url,headers=headers)\n",
        "\n",
        "    response.raise_for_status()  # Raise an exception for bad status codes\n",
        "    # Use Pillow to open the image and determine the format\n",
        "    img = Image.open(io.BytesIO(response.content))\n",
        "    img_format = img.format.lower()\n",
        "    # Encode the image content to base64\n",
        "    base64_image = base64.b64encode(response.content).decode('utf-8')\n",
        "    # Return the data URL format\n",
        "    return f\"data:image/{img_format};base64,{base64_image}\"\n",
        "    urlLimpa = encode_image_to_base64(urlLimpa)"
      ],
      "metadata": {
        "id": "wzpEol7Pt9Ty"
      },
      "execution_count": null,
      "outputs": []
    },
    {
      "cell_type": "code",
      "source": [
        "class VerificaPlaca(BaseModel):\n",
        "    id: int\n",
        "    needCleaning: bool\n",
        "    nivelSolar: int\n",
        "    analise: str\n",
        "urlLimpa64 = encode_image_to_base64(urlLimpa)\n",
        "urlSuja64 = encode_image_to_base64(urlSuja)\n",
        "urlSol64 = encode_image_to_base64(urlSol)\n",
        "urlNublado64 = encode_image_to_base64(urlNublado)\n",
        "\n",
        "response = client.chat.completions.create(\n",
        "    model=\"gpt-4o-mini\",\n",
        "    messages=[\n",
        "        {\n",
        "          \"role\": \"system\", \"content\": \"\"\"\n",
        "          You are an assistant that analyzes solar panel images.\n",
        "          Verify with the image if the solar panel needs cleaning to make sure the efficiency will be high.\n",
        "          If it needs cleaning, set 'needCleaning' to true.\n",
        "          else set it to false.\n",
        "          Also, measure the insolation in the image and classify it:\n",
        "          - 3 for high insolation\n",
        "          - 2 for medium\n",
        "          - 1 for low\n",
        "          Set the value in the `nivelSolar` column.\n",
        "          also make a large analyse of the image and justify your response please\n",
        "          Return the result as a JSON object in the format for better visualization:\n",
        "          {\n",
        "              \"id\": 1,\n",
        "              \"needCleaning\": true/false,\n",
        "              \"nivelSolar\": 1/2/3\n",
        "              \"analise\": \"your analyse\"\n",
        "          }\n",
        "           {\n",
        "              \"id\": 2,\n",
        "              \"needCleaning\": true/false,\n",
        "              \"nivelSolar\": 1/2/3\n",
        "              \"analise\": \"your analyse\"\n",
        "          }\n",
        "        \"\"\"\n",
        "        },\n",
        "        { \"role\": \"user\", \"content\":\n",
        "         [\n",
        "            {\n",
        "                \"type\": \"image_url\",\n",
        "                \"image_url\": {\"url\": urlLimpa}\n",
        "            },\n",
        "             {\n",
        "                \"type\": \"image_url\",\n",
        "                \"image_url\": {\"url\": urlSuja64}\n",
        "            },\n",
        "             {\n",
        "                \"type\": \"image_url\",\n",
        "                \"image_url\": {\"url\": urlSol64}\n",
        "            },\n",
        "             {\n",
        "                \"type\": \"image_url\",\n",
        "                \"image_url\": {\"url\": urlNublado64}\n",
        "            },\n",
        "        ]\n",
        "        }\n",
        "    ],\n",
        "    response_format={\"type\": \"json_object\"}\n",
        ")\n",
        "\n",
        "\n",
        "\n",
        "painel = response.choices[0].message.content\n",
        "print(painel)"
      ],
      "metadata": {
        "colab": {
          "base_uri": "https://localhost:8080/"
        },
        "id": "VagR-jLem9lC",
        "outputId": "00f3b62f-fe3c-441f-fc0f-28b1248ca3a9"
      },
      "execution_count": null,
      "outputs": [
        {
          "output_type": "stream",
          "name": "stdout",
          "text": [
            "{\n",
            "    \"solarPanels\": [\n",
            "        {\n",
            "            \"id\": 1,\n",
            "            \"needCleaning\": false,\n",
            "            \"nivelSolar\": 3,\n",
            "            \"analise\": \"The solar panel appears clean and free of dust or debris, allowing for optimal sunlight absorption. It is inclined toward the sun and is situated in a clear area, which contributes to high insolation.\"\n",
            "        },\n",
            "        {\n",
            "            \"id\": 2,\n",
            "            \"needCleaning\": true,\n",
            "            \"nivelSolar\": 1,\n",
            "            \"analise\": \"The solar panel shows significant dust accumulation, which can hinder performance and reduce efficiency. The insolation level is low due to the dirt covering much of the surface.\"\n",
            "        },\n",
            "        {\n",
            "            \"id\": 3,\n",
            "            \"needCleaning\": false,\n",
            "            \"nivelSolar\": 2,\n",
            "            \"analise\": \"The solar panel appears mostly clean with some minor shadows but no significant dust or dirt. The position indicates moderate sun exposure, suggesting a medium level of insolation.\"\n",
            "        },\n",
            "        {\n",
            "            \"id\": 4,\n",
            "            \"needCleaning\": false,\n",
            "            \"nivelSolar\": 1,\n",
            "            \"analise\": \"The solar panel is under overcast conditions, which significantly affects solar production. While the panel may be clean, the lack of direct sunlight results in low insolation.\"\n",
            "        }\n",
            "    ]\n",
            "}\n"
          ]
        }
      ]
    }
  ]
}